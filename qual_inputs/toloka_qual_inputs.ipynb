{
 "cells": [
  {
   "cell_type": "code",
   "execution_count": 2,
   "metadata": {},
   "outputs": [],
   "source": [
    "import json\n",
    "\n",
    "image_path = 'https://raw.githubusercontent.com/nilinykh/rdf_triples/main/qual_inputs/triples_rus/'\n",
    "\n",
    "with open('./qual_texts_rus.json', 'r') as f0:\n",
    "    texts = json.load(f0)"
   ]
  },
  {
   "cell_type": "code",
   "execution_count": 3,
   "metadata": {},
   "outputs": [],
   "source": [
    "first_line = 'INPUT:triplet_text\\tINPUT:triplet_image'"
   ]
  },
  {
   "cell_type": "code",
   "execution_count": 4,
   "metadata": {},
   "outputs": [],
   "source": [
    "input_list = [first_line]\n",
    "for image_id, description in texts.items():\n",
    "    full_image_link = image_path + str(image_id) + '.jpg'\n",
    "    input_list.append(f'{description}\\t{full_image_link}')\n",
    "\n",
    "with open('./toloka_qual_input_1.tsv', 'w') as f2:\n",
    "    for line in input_list:\n",
    "        f2.write(line)\n",
    "        f2.write('\\n')\n",
    "    for line in input_list:\n",
    "        f2.write(line)\n",
    "        f2.write('\\n')\n",
    "    for line in input_list:\n",
    "        f2.write(line)\n",
    "        f2.write('\\n')\n",
    "    for line in input_list:\n",
    "        f2.write(line)\n",
    "        f2.write('\\n')"
   ]
  },
  {
   "cell_type": "code",
   "execution_count": null,
   "metadata": {},
   "outputs": [],
   "source": []
  }
 ],
 "metadata": {
  "kernelspec": {
   "display_name": "Python 3",
   "language": "python",
   "name": "python3"
  },
  "language_info": {
   "codemirror_mode": {
    "name": "ipython",
    "version": 3
   },
   "file_extension": ".py",
   "mimetype": "text/x-python",
   "name": "python",
   "nbconvert_exporter": "python",
   "pygments_lexer": "ipython3",
   "version": "3.7.4"
  }
 },
 "nbformat": 4,
 "nbformat_minor": 4
}
