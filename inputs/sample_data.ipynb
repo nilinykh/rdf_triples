{
 "cells": [
  {
   "cell_type": "code",
   "execution_count": 25,
   "metadata": {},
   "outputs": [],
   "source": [
    "import sys\n",
    "sys.path.append('/home/xilini/webnlg/submissions2020/corpus-reader-master/')\n",
    "\n",
    "from benchmark_reader import Benchmark\n",
    "from benchmark_reader import select_files\n",
    "import json\n",
    "\n",
    "# extract reference texts\n",
    "b = Benchmark()\n",
    "b.fill_benchmark([('/home/xilini/webnlg/submissions2020/testdata/rdf2text/en/',\n",
    "                   'rdf-to-text-generation-test-data-with-refs-en.xml')])\n",
    "b.b2json('../../texts/', 'data_REF.json')"
   ]
  },
  {
   "cell_type": "code",
   "execution_count": 38,
   "metadata": {},
   "outputs": [],
   "source": [
    "with open('../inputs/sampled_ids.txt', 'r') as f2:\n",
    "    sampled_ids = f2.read().splitlines()"
   ]
  },
  {
   "cell_type": "code",
   "execution_count": 28,
   "metadata": {},
   "outputs": [],
   "source": [
    "with open('../../texts/data_REF.json', 'r') as f1:\n",
    "    data_REF = json.load(f1)['entries']"
   ]
  },
  {
   "cell_type": "code",
   "execution_count": 40,
   "metadata": {},
   "outputs": [],
   "source": [
    "sampled_data_REF = []\n",
    "for item in data_REF:\n",
    "    for key, value in item.items():\n",
    "        if key in sampled_ids:\n",
    "            sampled_data_REF.append(item)"
   ]
  },
  {
   "cell_type": "code",
   "execution_count": null,
   "metadata": {},
   "outputs": [],
   "source": []
  },
  {
   "cell_type": "code",
   "execution_count": 51,
   "metadata": {},
   "outputs": [],
   "source": [
    "lexicalisations = {}\n",
    "import random\n",
    "random.seed(0)\n",
    "\n",
    "for entry in sampled_data_REF:\n",
    "    lexs = []\n",
    "    for k, v in entry.items():\n",
    "        lex = v['lexicalisations']\n",
    "        for i in lex:\n",
    "            lexs.append(i['lex'])\n",
    "    this_lex = random.sample(lexs, 1)\n",
    "    lexicalisations[k] = this_lex[0]"
   ]
  },
  {
   "cell_type": "code",
   "execution_count": 55,
   "metadata": {},
   "outputs": [],
   "source": [
    "with open('../inputs/texts_REF.json', 'w') as f3:\n",
    "    json.dump(lexicalisations, f3)"
   ]
  },
  {
   "cell_type": "code",
   "execution_count": null,
   "metadata": {},
   "outputs": [],
   "source": []
  },
  {
   "cell_type": "code",
   "execution_count": 60,
   "metadata": {},
   "outputs": [],
   "source": [
    "# prepare triples\n",
    "\n",
    "triplet_data = {}\n",
    "\n",
    "for entry in sampled_data_REF:\n",
    "    lexs = []\n",
    "    rows = []\n",
    "    for k, v in entry.items():\n",
    "        triples = v['modifiedtripleset']       \n",
    "        for t in triples:\n",
    "            subj = t['subject'].replace('_', ' ')\n",
    "            pred = t['property'].replace('_', ' ')\n",
    "            obj = t['object'].replace('_', ' ')\n",
    "            this_t = [subj, pred, obj]\n",
    "            rows.append(this_t)\n",
    "                \n",
    "    triplet_data[k] = []\n",
    "    triplet_data[k].append(rows)\n"
   ]
  },
  {
   "cell_type": "code",
   "execution_count": 61,
   "metadata": {},
   "outputs": [],
   "source": [
    "html_triplet = '''\n",
    "\n",
    "  <tr>\n",
    "    <td class=\"tg-0lax\">SUBJ</td>\n",
    "    <td class=\"tg-0lax\">PRED</td>\n",
    "    <td class=\"tg-0lax\">OBJ</td>\n",
    "  </tr>\n",
    "\n",
    "'''"
   ]
  },
  {
   "cell_type": "code",
   "execution_count": 62,
   "metadata": {},
   "outputs": [],
   "source": [
    "html_head = '''\n",
    "\n",
    "<div class=\"center\">\n",
    "<table class=\"tg\">\n",
    "\n",
    "<thead>\n",
    "  <tr>\n",
    "    <th class=\"tg-0pky\"><b>Subject</b></th>\n",
    "    <th class=\"tg-0pky\"><b>Predicate</b></th>\n",
    "    <th class=\"tg-0pky\"><b>Object</b></th>\n",
    "  </tr>\n",
    "</thead>\n",
    "\n",
    "<tbody>\n",
    "REPLACE_DATA\n",
    "</tbody>\n",
    "\n",
    "</table>\n",
    "</div>\n",
    "\n",
    "'''"
   ]
  },
  {
   "cell_type": "code",
   "execution_count": 63,
   "metadata": {},
   "outputs": [],
   "source": [
    "qual_triplets_vis = {}\n",
    "for sample_id, triplet_set in triplet_data.items():\n",
    "    xml_set = ''\n",
    "    for this_set in triplet_set:\n",
    "        for item in this_set:\n",
    "            subj, pred, obj = item\n",
    "            this_xml_triplet = html_triplet.replace('SUBJ', subj).replace('PRED', pred).replace('OBJ', obj)\n",
    "            xml_set += this_xml_triplet\n",
    "    full_xml_table = html_head.replace('REPLACE_DATA', xml_set)\n",
    "    qual_triplets_vis[sample_id] = full_xml_table"
   ]
  },
  {
   "cell_type": "code",
   "execution_count": 66,
   "metadata": {},
   "outputs": [
    {
     "data": {
      "text/plain": [
       "178"
      ]
     },
     "execution_count": 66,
     "metadata": {},
     "output_type": "execute_result"
    }
   ],
   "source": [
    "len(qual_triplets_vis)"
   ]
  },
  {
   "cell_type": "code",
   "execution_count": 65,
   "metadata": {},
   "outputs": [],
   "source": [
    "with open('../inputs/triples_REF.json', 'w') as f0:\n",
    "    json.dump(qual_triplets_vis, f0)"
   ]
  },
  {
   "cell_type": "code",
   "execution_count": null,
   "metadata": {},
   "outputs": [],
   "source": []
  }
 ],
 "metadata": {
  "kernelspec": {
   "display_name": "Python 3",
   "language": "python",
   "name": "python3"
  },
  "language_info": {
   "codemirror_mode": {
    "name": "ipython",
    "version": 3
   },
   "file_extension": ".py",
   "mimetype": "text/x-python",
   "name": "python",
   "nbconvert_exporter": "python",
   "pygments_lexer": "ipython3",
   "version": "3.7.9"
  }
 },
 "nbformat": 4,
 "nbformat_minor": 4
}
