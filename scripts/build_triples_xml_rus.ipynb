{
 "cells": [
  {
   "cell_type": "code",
   "execution_count": 2,
   "metadata": {},
   "outputs": [],
   "source": [
    "import json\n",
    "\n",
    "with open('../qual_inputs/qual_triplets_rus.json', 'r') as f:\n",
    "    triples = json.load(f)"
   ]
  },
  {
   "cell_type": "code",
   "execution_count": 3,
   "metadata": {},
   "outputs": [],
   "source": [
    "xml_loc = '../qual_inputs/xml_rus/'\n",
    "triples_loc = '../qual_inputs/triples_rus/'"
   ]
  },
  {
   "cell_type": "code",
   "execution_count": 5,
   "metadata": {},
   "outputs": [],
   "source": [
    "#triples"
   ]
  },
  {
   "cell_type": "code",
   "execution_count": 6,
   "metadata": {},
   "outputs": [],
   "source": [
    "table_style = '''\n",
    "\n",
    "<style type=\"text/css\">\n",
    ".tg  {border-collapse:collapse;border-spacing:0;}\n",
    ".tg td{border-color:black;border-style:solid;border-width:1px;font-family:Arial, sans-serif;font-size:14px;\n",
    "  overflow:hidden;padding:10px 5px;word-break:normal;}\n",
    ".tg th{border-color:black;border-style:solid;border-width:1px;font-family:Arial, sans-serif;font-size:14px;\n",
    "  font-weight:normal;overflow:hidden;padding:10px 5px;word-break:normal;}\n",
    ".tg .tg-0pky{border-color:inherit;text-align:left;vertical-align:top}\n",
    ".tg .tg-0lax{text-align:left;vertical-align:top}\n",
    "    \n",
    ".center {\n",
    "  margin: 0;\n",
    "  position: absolute;\n",
    "  left: 5%;\n",
    "  -ms-transform: translate(-50%, -50%);\n",
    "  transform: translate(-50%, -50%);\n",
    "}\n",
    "\n",
    "</style>\n",
    "\n",
    "'''"
   ]
  },
  {
   "cell_type": "code",
   "execution_count": 7,
   "metadata": {},
   "outputs": [
    {
     "ename": "OSError",
     "evalue": "No wkhtmltoimage executable found: \"b''\"\nIf this file exists please check that this process can read it. Otherwise please install wkhtmltopdf - http://wkhtmltopdf.org\n",
     "output_type": "error",
     "traceback": [
      "\u001b[0;31m---------------------------------------------------------------------------\u001b[0m",
      "\u001b[0;31mFileNotFoundError\u001b[0m                         Traceback (most recent call last)",
      "\u001b[0;32m~/anaconda3/envs/vis-par/lib/python3.7/site-packages/imgkit/config.py\u001b[0m in \u001b[0;36m__init__\u001b[0;34m(self, wkhtmltoimage, meta_tag_prefix)\u001b[0m\n\u001b[1;32m     29\u001b[0m         \u001b[0;32mtry\u001b[0m\u001b[0;34m:\u001b[0m\u001b[0;34m\u001b[0m\u001b[0;34m\u001b[0m\u001b[0m\n\u001b[0;32m---> 30\u001b[0;31m             \u001b[0;32mwith\u001b[0m \u001b[0mopen\u001b[0m\u001b[0;34m(\u001b[0m\u001b[0mself\u001b[0m\u001b[0;34m.\u001b[0m\u001b[0mwkhtmltoimage\u001b[0m\u001b[0;34m)\u001b[0m\u001b[0;34m:\u001b[0m\u001b[0;34m\u001b[0m\u001b[0;34m\u001b[0m\u001b[0m\n\u001b[0m\u001b[1;32m     31\u001b[0m                 \u001b[0;32mpass\u001b[0m\u001b[0;34m\u001b[0m\u001b[0;34m\u001b[0m\u001b[0m\n",
      "\u001b[0;31mFileNotFoundError\u001b[0m: [Errno 2] No such file or directory: b''",
      "\nDuring handling of the above exception, another exception occurred:\n",
      "\u001b[0;31mOSError\u001b[0m                                   Traceback (most recent call last)",
      "\u001b[0;32m<ipython-input-7-cf0ba02b2c6b>\u001b[0m in \u001b[0;36m<module>\u001b[0;34m\u001b[0m\n\u001b[1;32m      7\u001b[0m     \u001b[0;32mwith\u001b[0m \u001b[0mopen\u001b[0m\u001b[0;34m(\u001b[0m\u001b[0;34mf'{xml_loc}{item_id}.html'\u001b[0m\u001b[0;34m,\u001b[0m \u001b[0;34m'w'\u001b[0m\u001b[0;34m)\u001b[0m \u001b[0;32mas\u001b[0m \u001b[0mf1\u001b[0m\u001b[0;34m:\u001b[0m\u001b[0;34m\u001b[0m\u001b[0;34m\u001b[0m\u001b[0m\n\u001b[1;32m      8\u001b[0m         \u001b[0mf1\u001b[0m\u001b[0;34m.\u001b[0m\u001b[0mwrite\u001b[0m\u001b[0;34m(\u001b[0m\u001b[0mfull_xml\u001b[0m\u001b[0;34m)\u001b[0m\u001b[0;34m\u001b[0m\u001b[0;34m\u001b[0m\u001b[0m\n\u001b[0;32m----> 9\u001b[0;31m     \u001b[0mimgkit\u001b[0m\u001b[0;34m.\u001b[0m\u001b[0mfrom_file\u001b[0m\u001b[0;34m(\u001b[0m\u001b[0;34mf'{xml_loc}{item_id}.html'\u001b[0m\u001b[0;34m,\u001b[0m \u001b[0;34mf'{triples_loc}{item_id}.jpg'\u001b[0m\u001b[0;34m,\u001b[0m \u001b[0moptions\u001b[0m\u001b[0;34m=\u001b[0m\u001b[0moptions\u001b[0m\u001b[0;34m)\u001b[0m\u001b[0;34m\u001b[0m\u001b[0;34m\u001b[0m\u001b[0m\n\u001b[0m",
      "\u001b[0;32m~/anaconda3/envs/vis-par/lib/python3.7/site-packages/imgkit/api.py\u001b[0m in \u001b[0;36mfrom_file\u001b[0;34m(filename, output_path, options, toc, cover, css, config, cover_first)\u001b[0m\n\u001b[1;32m     61\u001b[0m                  \u001b[0mcss\u001b[0m\u001b[0;34m=\u001b[0m\u001b[0mcss\u001b[0m\u001b[0;34m,\u001b[0m\u001b[0;34m\u001b[0m\u001b[0;34m\u001b[0m\u001b[0m\n\u001b[1;32m     62\u001b[0m                  \u001b[0mconfig\u001b[0m\u001b[0;34m=\u001b[0m\u001b[0mconfig\u001b[0m\u001b[0;34m,\u001b[0m\u001b[0;34m\u001b[0m\u001b[0;34m\u001b[0m\u001b[0m\n\u001b[0;32m---> 63\u001b[0;31m                  cover_first=cover_first)\n\u001b[0m\u001b[1;32m     64\u001b[0m     \u001b[0;32mreturn\u001b[0m \u001b[0mrtn\u001b[0m\u001b[0;34m.\u001b[0m\u001b[0mto_img\u001b[0m\u001b[0;34m(\u001b[0m\u001b[0moutput_path\u001b[0m\u001b[0;34m)\u001b[0m\u001b[0;34m\u001b[0m\u001b[0;34m\u001b[0m\u001b[0m\n\u001b[1;32m     65\u001b[0m \u001b[0;34m\u001b[0m\u001b[0m\n",
      "\u001b[0;32m~/anaconda3/envs/vis-par/lib/python3.7/site-packages/imgkit/imgkit.py\u001b[0m in \u001b[0;36m__init__\u001b[0;34m(self, url_or_file, source_type, options, toc, cover, css, config, cover_first)\u001b[0m\n\u001b[1;32m     32\u001b[0m                  css=None, config=None, cover_first=None):\n\u001b[1;32m     33\u001b[0m         \u001b[0mself\u001b[0m\u001b[0;34m.\u001b[0m\u001b[0msource\u001b[0m \u001b[0;34m=\u001b[0m \u001b[0mSource\u001b[0m\u001b[0;34m(\u001b[0m\u001b[0murl_or_file\u001b[0m\u001b[0;34m,\u001b[0m \u001b[0msource_type\u001b[0m\u001b[0;34m)\u001b[0m\u001b[0;34m\u001b[0m\u001b[0;34m\u001b[0m\u001b[0m\n\u001b[0;32m---> 34\u001b[0;31m         \u001b[0mself\u001b[0m\u001b[0;34m.\u001b[0m\u001b[0mconfig\u001b[0m \u001b[0;34m=\u001b[0m \u001b[0mConfig\u001b[0m\u001b[0;34m(\u001b[0m\u001b[0;34m)\u001b[0m \u001b[0;32mif\u001b[0m \u001b[0;32mnot\u001b[0m \u001b[0mconfig\u001b[0m \u001b[0;32melse\u001b[0m \u001b[0mconfig\u001b[0m\u001b[0;34m\u001b[0m\u001b[0;34m\u001b[0m\u001b[0m\n\u001b[0m\u001b[1;32m     35\u001b[0m         \u001b[0;32mtry\u001b[0m\u001b[0;34m:\u001b[0m\u001b[0;34m\u001b[0m\u001b[0;34m\u001b[0m\u001b[0m\n\u001b[1;32m     36\u001b[0m             \u001b[0mself\u001b[0m\u001b[0;34m.\u001b[0m\u001b[0mwkhtmltoimage\u001b[0m \u001b[0;34m=\u001b[0m \u001b[0mself\u001b[0m\u001b[0;34m.\u001b[0m\u001b[0mconfig\u001b[0m\u001b[0;34m.\u001b[0m\u001b[0mwkhtmltoimage\u001b[0m\u001b[0;34m.\u001b[0m\u001b[0mdecode\u001b[0m\u001b[0;34m(\u001b[0m\u001b[0;34m'utf-8'\u001b[0m\u001b[0;34m)\u001b[0m\u001b[0;34m\u001b[0m\u001b[0;34m\u001b[0m\u001b[0m\n",
      "\u001b[0;32m~/anaconda3/envs/vis-par/lib/python3.7/site-packages/imgkit/config.py\u001b[0m in \u001b[0;36m__init__\u001b[0;34m(self, wkhtmltoimage, meta_tag_prefix)\u001b[0m\n\u001b[1;32m     34\u001b[0m                           \u001b[0;34m'If this file exists please check that this process can '\u001b[0m\u001b[0;34m\u001b[0m\u001b[0;34m\u001b[0m\u001b[0m\n\u001b[1;32m     35\u001b[0m                           \u001b[0;34m'read it. Otherwise please install wkhtmltopdf - '\u001b[0m\u001b[0;34m\u001b[0m\u001b[0;34m\u001b[0m\u001b[0m\n\u001b[0;32m---> 36\u001b[0;31m                           'http://wkhtmltopdf.org\\n'.format(self.wkhtmltoimage))\n\u001b[0m",
      "\u001b[0;31mOSError\u001b[0m: No wkhtmltoimage executable found: \"b''\"\nIf this file exists please check that this process can read it. Otherwise please install wkhtmltopdf - http://wkhtmltopdf.org\n"
     ]
    }
   ],
   "source": [
    "import imgkit\n",
    "options = {'encoding': \"UTF-8\"}\n",
    "\n",
    "for item_id, tr in triples.items():\n",
    "    tr = tr.replace('\\n', '')\n",
    "    full_xml = table_style + tr\n",
    "    with open(f'{xml_loc}{item_id}.html', 'w') as f1:\n",
    "        f1.write(full_xml)\n",
    "    imgkit.from_file(f'{xml_loc}{item_id}.html', f'{triples_loc}{item_id}.jpg', options=options)\n"
   ]
  },
  {
   "cell_type": "code",
   "execution_count": null,
   "metadata": {},
   "outputs": [],
   "source": []
  },
  {
   "cell_type": "code",
   "execution_count": null,
   "metadata": {},
   "outputs": [],
   "source": [
    "# qualification texts\n",
    "\n",
    "qual_texts = {\"7514\": \"The Alfa Romeo 164 is assembled in Milan and is a related means of transportation to the Saab 9000 and the Lancia Thema as they are all cars.\",\n",
    " \"9495\": \"Atlantic City is part of New Jersey, the largest city in which is Newark. New Jersey is located in the United States.\",\n",
    " \"8585\": \"As well as having an aircraft-capable helicopter known as the HAL Light Combat Helicopter, the Indian Air Force, operates Agra Airport. This airport is in Uttar Pradesh which is part of Bundelkhand. Bundelkhand is a region in India.\",\n",
    " \"522\": \"Deram Records is a pop music record label.\",\n",
    " \"4019\": \"250 Delaware Avenue is located in the United Kingdom whose leader has the title of President.\",\n",
    " \"4628\": \"Bakewell pudding includes: Ground almond, jam, and can be served fresh (and warm) or cold.\",\n",
    " \"10889\": \"Alcatraz Versus the Evil Librarians is written in French which is the language spoken in Great Britain. It originates from France where White Americans live.\",\n",
    " \"10439\": \"Agnes Kant, who hails from the Netherlands, was a member of the Socialist Party.\",\n",
    " \"10885\": \"Aenir, published by EG, has the OCLC number 45644811, the ISBN number 0-439-17684-0 and costs around 10 dollars.\",\n",
    " \"3381\": \"Maple Ridge Township, Alpena County, Michigan is. The Alpena County Regional Airport is located there.\",\n",
    " \"2104\": \"The AMC Matador has a hardtop.\",\n",
    " \"12485\": \"The alma mater of Ab Klink is Erasmus University in Rotterdam. Erasmus University is affiliated with the Association of MBAs. Klink was born in the Netherlands. The Netherlands is led by Mark Rutte. The Netherlands uses the euro currency.\",\n",
    " \"5709\": \"The 11/29 runway in Afonso Pena International airport in Sao Jose dos Pinhais has a length of 2215.0 and a length of 2215.0.\",\n",
    " \"4541\": \"Spaniards is the name for the people of Italy and one of the traditional dishes there is Arròs negre.\",\n",
    " \"12178\": \"Batagor is a dish variation of Siomay. It is from Joko Widodo led, Indonesia.\",\n",
    " \"7222\": \"The dessert of baked Alaska is meringue as an ingredient, a cookie is also a type of dessert.\",\n",
    " \"470\": \"Christian alternative rock is a music sub genre of alternative rock.\",\n",
    " \"8643\": \"Hip Hop music has its origins in Funk and Disco. A derivative of Hip Hop is drum and bass, and one genre from this type of music is Abradab.\",\n",
    " \"12070\": \"Arem-arem is a Javanese dish from the Philippines. Joko Widodo and Jusuf Kalla are the leaders of this Indonesian-speaking nation. Indonesia is a country in Southeast Asia.\",\n",
    " \"2128\": \"The Abarth 1000 GT Coupe has a wheelbase of 2160 millimetres.\",\n",
    " \"3781\": \"Aleksandr Prudnikov play for FC Tom Tomsk and the FC Spartak Moscow club.\"}\n",
    "\n"
   ]
  },
  {
   "cell_type": "code",
   "execution_count": null,
   "metadata": {},
   "outputs": [],
   "source": [
    "import json\n",
    "with open('../../rdf_triples/qual_inputs/qual_texts.json', 'w') as f2:\n",
    "    json.dump(qual_texts, f2)"
   ]
  },
  {
   "cell_type": "code",
   "execution_count": null,
   "metadata": {},
   "outputs": [],
   "source": []
  }
 ],
 "metadata": {
  "kernelspec": {
   "display_name": "Python 3",
   "language": "python",
   "name": "python3"
  },
  "language_info": {
   "codemirror_mode": {
    "name": "ipython",
    "version": 3
   },
   "file_extension": ".py",
   "mimetype": "text/x-python",
   "name": "python",
   "nbconvert_exporter": "python",
   "pygments_lexer": "ipython3",
   "version": "3.7.9"
  }
 },
 "nbformat": 4,
 "nbformat_minor": 4
}
