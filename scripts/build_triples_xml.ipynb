{
 "cells": [
  {
   "cell_type": "code",
   "execution_count": 1,
   "metadata": {},
   "outputs": [],
   "source": [
    "import json\n",
    "\n",
    "with open('./rdf_triples/qual_inputs/qual_triplets.json', 'r') as f:\n",
    "    triples = json.load(f)"
   ]
  },
  {
   "cell_type": "code",
   "execution_count": 2,
   "metadata": {},
   "outputs": [],
   "source": [
    "xml_loc = './rdf_triples/qual_inputs/xml/'\n",
    "triples_loc = './rdf_triples/qual_inputs/triples/'"
   ]
  },
  {
   "cell_type": "code",
   "execution_count": 3,
   "metadata": {},
   "outputs": [],
   "source": [
    "table_style = '''\n",
    "\n",
    "<style type=\"text/css\">\n",
    ".tg  {border-collapse:collapse;border-spacing:0;}\n",
    ".tg td{border-color:black;border-style:solid;border-width:1px;font-family:Arial, sans-serif;font-size:14px;\n",
    "  overflow:hidden;padding:10px 5px;word-break:normal;}\n",
    ".tg th{border-color:black;border-style:solid;border-width:1px;font-family:Arial, sans-serif;font-size:14px;\n",
    "  font-weight:normal;overflow:hidden;padding:10px 5px;word-break:normal;}\n",
    ".tg .tg-0pky{border-color:inherit;text-align:left;vertical-align:top}\n",
    ".tg .tg-0lax{text-align:left;vertical-align:top}\n",
    "    \n",
    ".center {\n",
    "  margin: 0;\n",
    "  position: absolute;\n",
    "  left: 25%;\n",
    "  -ms-transform: translate(-50%, -50%);\n",
    "  transform: translate(-50%, -50%);\n",
    "}\n",
    "\n",
    "</style>\n",
    "\n",
    "'''"
   ]
  },
  {
   "cell_type": "code",
   "execution_count": null,
   "metadata": {},
   "outputs": [],
   "source": []
  },
  {
   "cell_type": "code",
   "execution_count": 4,
   "metadata": {},
   "outputs": [
    {
     "name": "stdout",
     "output_type": "stream",
     "text": [
      "Loading page (1/2)\n",
      "Rendering (2/2)                                                    \n",
      "Done                                                               \n",
      "Loading page (1/2)\n",
      "Rendering (2/2)                                                    \n",
      "Done                                                               \n",
      "Loading page (1/2)\n",
      "Rendering (2/2)                                                    \n",
      "Done                                                               \n",
      "Loading page (1/2)\n",
      "Rendering (2/2)                                                    \n",
      "Done                                                               \n",
      "Loading page (1/2)\n",
      "Rendering (2/2)                                                    \n",
      "Done                                                               \n",
      "Loading page (1/2)\n",
      "Rendering (2/2)                                                    \n",
      "Done                                                               \n",
      "Loading page (1/2)\n",
      "Rendering (2/2)                                                    \n",
      "Done                                                               \n",
      "Loading page (1/2)\n",
      "Rendering (2/2)                                                    \n",
      "Done                                                               \n",
      "Loading page (1/2)\n",
      "Rendering (2/2)                                                    \n",
      "Done                                                               \n",
      "Loading page (1/2)\n",
      "Rendering (2/2)                                                    \n",
      "Done                                                               \n",
      "Loading page (1/2)\n",
      "Rendering (2/2)                                                    \n",
      "Done                                                               \n",
      "Loading page (1/2)\n",
      "Rendering (2/2)                                                    \n",
      "Done                                                               \n",
      "Loading page (1/2)\n",
      "Rendering (2/2)                                                    \n",
      "Done                                                               \n",
      "Loading page (1/2)\n",
      "Rendering (2/2)                                                    \n",
      "Done                                                               \n",
      "Loading page (1/2)\n",
      "Rendering (2/2)                                                    \n",
      "Done                                                               \n",
      "Loading page (1/2)\n",
      "Rendering (2/2)                                                    \n",
      "Done                                                               \n",
      "Loading page (1/2)\n",
      "Rendering (2/2)                                                    \n",
      "Done                                                               \n",
      "Loading page (1/2)\n",
      "Rendering (2/2)                                                    \n",
      "Done                                                               \n",
      "Loading page (1/2)\n",
      "Rendering (2/2)                                                    \n",
      "Done                                                               \n",
      "Loading page (1/2)\n",
      "Rendering (2/2)                                                    \n",
      "Done                                                               \n",
      "Loading page (1/2)\n",
      "Rendering (2/2)                                                    \n",
      "Done                                                               \n"
     ]
    }
   ],
   "source": [
    "import imgkit\n",
    "options = {'encoding': \"UTF-8\"}\n",
    "\n",
    "for item_id, tr in triples.items():\n",
    "    tr = tr.replace('\\n', '')\n",
    "    full_xml = table_style + tr\n",
    "    with open(f'{xml_loc}{item_id}.html', 'w') as f1:\n",
    "        f1.write(full_xml)\n",
    "    imgkit.from_file(f'{xml_loc}{item_id}.html', f'{triples_loc}{item_id}.jpg', options=options)\n"
   ]
  },
  {
   "cell_type": "code",
   "execution_count": 2,
   "metadata": {},
   "outputs": [],
   "source": [
    "# qualification texts\n",
    "\n",
    "qual_texts = {\"7514\": \"The Alfa Romeo 164 is assembled in Milan and is a related means of transportation to the Saab 9000 and the Lancia Thema as they are all cars.\",\n",
    " \"9495\": \"Atlantic City is part of New Jersey, the largest city in which is Newark. New Jersey is located in the United States.\",\n",
    " \"8585\": \"As well as having an aircraft-capable helicopter known as the HAL Light Combat Helicopter, the Indian Air Force, operates Agra Airport. This airport is in Uttar Pradesh which is part of Bundelkhand. Bundelkhand is a region in India.\",\n",
    " \"522\": \"Deram Records is a pop music record label.\",\n",
    " \"4019\": \"250 Delaware Avenue is located in the United Kingdom whose leader has the title of President.\",\n",
    " \"4628\": \"Bakewell pudding includes: Ground almond, jam, and can be served fresh (and warm) or cold.\",\n",
    " \"10889\": \"Alcatraz Versus the Evil Librarians is written in French which is the language spoken in Great Britain. It originates from France where White Americans live.\",\n",
    " \"10439\": \"Agnes Kant, who hails from the Netherlands, was a member of the Socialist Party.\",\n",
    " \"10885\": \"Aenir, published by EG, has the OCLC number 45644811, the ISBN number 0-439-17684-0 and costs around 10 dollars.\",\n",
    " \"3381\": \"Maple Ridge Township, Alpena County, Michigan is. The Alpena County Regional Airport is located there.\",\n",
    " \"2104\": \"The AMC Matador has a hardtop.\",\n",
    " \"12485\": \"The alma mater of Ab Klink is Erasmus University in Rotterdam. Erasmus University is affiliated with the Association of MBAs. Klink was born in the Netherlands. The Netherlands is led by Mark Rutte. The Netherlands uses the euro currency.\",\n",
    " \"5709\": \"The 11/29 runway in Afonso Pena International airport in Sao Jose dos Pinhais has a length of 2215.0 and a length of 2215.0.\",\n",
    " \"4541\": \"Spaniards is the name for the people of Italy and one of the traditional dishes there is Arròs negre.\",\n",
    " \"12178\": \"Batagor is a dish variation of Siomay. It is from Joko Widodo led, Indonesia.\",\n",
    " \"7222\": \"The dessert of baked Alaska is meringue as an ingredient, a cookie is also a type of dessert.\",\n",
    " \"470\": \"Christian alternative rock is a music sub genre of alternative rock.\",\n",
    " \"8643\": \"Hip Hop music has its origins in Funk and Disco. A derivative of Hip Hop is drum and bass, and one genre from this type of music is Abradab.\",\n",
    " \"12070\": \"Arem-arem is a Javanese dish from the Philippines. Joko Widodo and Jusuf Kalla are the leaders of this Indonesian-speaking nation. Indonesia is a country in Southeast Asia.\",\n",
    " \"2128\": \"The Abarth 1000 GT Coupe has a wheelbase of 2160 millimetres.\",\n",
    " \"3781\": \"Aleksandr Prudnikov play for FC Tom Tomsk and the FC Spartak Moscow club.\"}\n",
    "\n"
   ]
  },
  {
   "cell_type": "code",
   "execution_count": 4,
   "metadata": {},
   "outputs": [],
   "source": [
    "import json\n",
    "with open('../../rdf_triples/qual_inputs/qual_texts.json', 'w') as f2:\n",
    "    json.dump(qual_texts, f2)"
   ]
  },
  {
   "cell_type": "code",
   "execution_count": null,
   "metadata": {},
   "outputs": [],
   "source": []
  }
 ],
 "metadata": {
  "kernelspec": {
   "display_name": "Python 3",
   "language": "python",
   "name": "python3"
  },
  "language_info": {
   "codemirror_mode": {
    "name": "ipython",
    "version": 3
   },
   "file_extension": ".py",
   "mimetype": "text/x-python",
   "name": "python",
   "nbconvert_exporter": "python",
   "pygments_lexer": "ipython3",
   "version": "3.7.9"
  }
 },
 "nbformat": 4,
 "nbformat_minor": 4
}
